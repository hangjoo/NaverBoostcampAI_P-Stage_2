{
 "cells": [
  {
   "cell_type": "code",
   "execution_count": 1,
   "id": "71a57a41-acc4-4bfb-815c-83207a7298a3",
   "metadata": {},
   "outputs": [],
   "source": [
    "import torch"
   ]
  },
  {
   "cell_type": "code",
   "execution_count": 21,
   "id": "4155dd9a-b1dc-44ce-867a-d0d81a9dfba0",
   "metadata": {},
   "outputs": [],
   "source": [
    "test_1 = torch.tensor([[[1, 2, 3, 4]]])\n",
    "test_2 = torch.tensor([[[5, 6, 7, 8]]])\n",
    "\n",
    "test_3 = torch.tensor([[1., 2, 3, 4],[5, 6, 7, 8]])"
   ]
  },
  {
   "cell_type": "code",
   "execution_count": 13,
   "id": "974945fe-853d-4113-ae94-8c739a38a878",
   "metadata": {},
   "outputs": [],
   "source": [
    "flatten = torch.nn.Flatten((1, 4))\n",
    "adaptive = torch.nn.AdaptiveAvgPool2d((1, 4))"
   ]
  },
  {
   "cell_type": "code",
   "execution_count": 22,
   "id": "a46d180c-9f70-4f7e-ab1d-878a11cf7624",
   "metadata": {},
   "outputs": [],
   "source": [
    "output = torch.cat((test_1, test_2), dim=-1)"
   ]
  },
  {
   "cell_type": "code",
   "execution_count": 23,
   "id": "194edd84-3406-444c-95e4-6ceb46e0c5d3",
   "metadata": {},
   "outputs": [
    {
     "data": {
      "text/plain": [
       "tensor([[[1, 2, 3, 4, 5, 6, 7, 8]]])"
      ]
     },
     "execution_count": 23,
     "metadata": {},
     "output_type": "execute_result"
    }
   ],
   "source": [
    "output"
   ]
  },
  {
   "cell_type": "code",
   "execution_count": 17,
   "id": "303e2bbd-9d81-40b0-b7d8-864499beb8bd",
   "metadata": {},
   "outputs": [],
   "source": [
    "output2 = adaptive(test_3.unsqueeze(dim=0))"
   ]
  },
  {
   "cell_type": "code",
   "execution_count": 18,
   "id": "43005235-47bc-4841-aff2-c786c4a170d1",
   "metadata": {},
   "outputs": [
    {
     "data": {
      "text/plain": [
       "tensor([[[3., 4., 5., 6.]]])"
      ]
     },
     "execution_count": 18,
     "metadata": {},
     "output_type": "execute_result"
    }
   ],
   "source": [
    "output2"
   ]
  },
  {
   "cell_type": "code",
   "execution_count": 20,
   "id": "9557bd76-d9f0-47e5-9550-6ce890920f8c",
   "metadata": {},
   "outputs": [
    {
     "data": {
      "text/plain": [
       "tensor([[[1, 2, 3, 4]],\n",
       "\n",
       "        [[5, 6, 7, 8]]])"
      ]
     },
     "execution_count": 20,
     "metadata": {},
     "output_type": "execute_result"
    }
   ],
   "source": [
    "torch.stack((test_1, test_2))"
   ]
  },
  {
   "cell_type": "code",
   "execution_count": null,
   "id": "5f5830cd-deea-473b-9c0f-8fbf010276c2",
   "metadata": {},
   "outputs": [],
   "source": []
  }
 ],
 "metadata": {
  "kernelspec": {
   "display_name": "Python 3",
   "language": "python",
   "name": "python3"
  },
  "language_info": {
   "codemirror_mode": {
    "name": "ipython",
    "version": 3
   },
   "file_extension": ".py",
   "mimetype": "text/x-python",
   "name": "python",
   "nbconvert_exporter": "python",
   "pygments_lexer": "ipython3",
   "version": "3.7.7"
  }
 },
 "nbformat": 4,
 "nbformat_minor": 5
}
