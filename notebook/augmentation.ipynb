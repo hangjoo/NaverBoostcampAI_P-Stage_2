{
 "cells": [
  {
   "cell_type": "code",
   "execution_count": 168,
   "id": "69f17990-5ded-4bb0-850e-29d45c615e76",
   "metadata": {},
   "outputs": [],
   "source": [
    "import os\n",
    "from pprint import pprint\n",
    "import re\n",
    "import random\n",
    "import pandas as pd\n",
    "import numpy as np\n",
    "import transformers\n",
    "from konlpy.tag import Okt"
   ]
  },
  {
   "cell_type": "markdown",
   "id": "e3019678-8cb1-4197-86ad-9af4ed96a476",
   "metadata": {},
   "source": [
    "## 데이터 읽어오기"
   ]
  },
  {
   "cell_type": "code",
   "execution_count": 2,
   "id": "922a2ded-b35b-4ab9-bc68-30767474481e",
   "metadata": {},
   "outputs": [
    {
     "data": {
      "text/html": [
       "<div>\n",
       "<style scoped>\n",
       "    .dataframe tbody tr th:only-of-type {\n",
       "        vertical-align: middle;\n",
       "    }\n",
       "\n",
       "    .dataframe tbody tr th {\n",
       "        vertical-align: top;\n",
       "    }\n",
       "\n",
       "    .dataframe thead th {\n",
       "        text-align: right;\n",
       "    }\n",
       "</style>\n",
       "<table border=\"1\" class=\"dataframe\">\n",
       "  <thead>\n",
       "    <tr style=\"text-align: right;\">\n",
       "      <th></th>\n",
       "      <th>0</th>\n",
       "      <th>1</th>\n",
       "      <th>2</th>\n",
       "      <th>3</th>\n",
       "      <th>4</th>\n",
       "      <th>5</th>\n",
       "      <th>6</th>\n",
       "      <th>7</th>\n",
       "      <th>8</th>\n",
       "    </tr>\n",
       "  </thead>\n",
       "  <tbody>\n",
       "    <tr>\n",
       "      <th>0</th>\n",
       "      <td>wikipedia-24896-25-30-33-19-21</td>\n",
       "      <td>영국에서 사용되는 스포츠 유틸리티 자동차의 브랜드로는 랜드로버(Land Rover)...</td>\n",
       "      <td>랜드로버</td>\n",
       "      <td>30</td>\n",
       "      <td>33</td>\n",
       "      <td>자동차</td>\n",
       "      <td>19</td>\n",
       "      <td>21</td>\n",
       "      <td>단체:제작</td>\n",
       "    </tr>\n",
       "    <tr>\n",
       "      <th>1</th>\n",
       "      <td>wikipedia-12728-224-5-7-42-44</td>\n",
       "      <td>선거에서 민주당은 해산 전 의석인 230석에 한참 못 미치는 57석(지역구 27석,...</td>\n",
       "      <td>민주당</td>\n",
       "      <td>5</td>\n",
       "      <td>7</td>\n",
       "      <td>27석</td>\n",
       "      <td>42</td>\n",
       "      <td>44</td>\n",
       "      <td>관계_없음</td>\n",
       "    </tr>\n",
       "    <tr>\n",
       "      <th>2</th>\n",
       "      <td>wikipedia-28460-3-0-7-9-12</td>\n",
       "      <td>유럽 축구 연맹(UEFA) 집행위원회는 2014년 1월 24일에 열린 회의를 통해 ...</td>\n",
       "      <td>유럽 축구 연맹</td>\n",
       "      <td>0</td>\n",
       "      <td>7</td>\n",
       "      <td>UEFA</td>\n",
       "      <td>9</td>\n",
       "      <td>12</td>\n",
       "      <td>단체:별칭</td>\n",
       "    </tr>\n",
       "    <tr>\n",
       "      <th>3</th>\n",
       "      <td>wikipedia-11479-37-24-26-3-5</td>\n",
       "      <td>용병 공격수 챠디의 부진과 시즌 초 활약한 강수일의 침체, 시즌 중반에 영입한 세르...</td>\n",
       "      <td>강수일</td>\n",
       "      <td>24</td>\n",
       "      <td>26</td>\n",
       "      <td>공격수</td>\n",
       "      <td>3</td>\n",
       "      <td>5</td>\n",
       "      <td>인물:직업/직함</td>\n",
       "    </tr>\n",
       "    <tr>\n",
       "      <th>4</th>\n",
       "      <td>wikipedia-15581-6-0-2-32-40</td>\n",
       "      <td>람캄행 왕은 1237년에서 1247년 사이 수코타이의 왕 퍼쿤 씨 인트라팃과 쓰엉 ...</td>\n",
       "      <td>람캄행</td>\n",
       "      <td>0</td>\n",
       "      <td>2</td>\n",
       "      <td>퍼쿤 씨 인트라팃</td>\n",
       "      <td>32</td>\n",
       "      <td>40</td>\n",
       "      <td>인물:부모님</td>\n",
       "    </tr>\n",
       "    <tr>\n",
       "      <th>...</th>\n",
       "      <td>...</td>\n",
       "      <td>...</td>\n",
       "      <td>...</td>\n",
       "      <td>...</td>\n",
       "      <td>...</td>\n",
       "      <td>...</td>\n",
       "      <td>...</td>\n",
       "      <td>...</td>\n",
       "      <td>...</td>\n",
       "    </tr>\n",
       "    <tr>\n",
       "      <th>8995</th>\n",
       "      <td>wikipedia-5414-12-15-21-0-4</td>\n",
       "      <td>2002년 FIFA 월드컵 사우디아라비아와의 1차전에서 독일은 8-0으로 승리하였는...</td>\n",
       "      <td>사우디아라비아</td>\n",
       "      <td>15</td>\n",
       "      <td>21</td>\n",
       "      <td>2002년</td>\n",
       "      <td>0</td>\n",
       "      <td>4</td>\n",
       "      <td>관계_없음</td>\n",
       "    </tr>\n",
       "    <tr>\n",
       "      <th>8996</th>\n",
       "      <td>wikipedia-10384-4-12-14-0-1</td>\n",
       "      <td>일본의 2대 메이커인 토요타와 닛산은 시장 점유율을 높이기 위한 신차 개발을 계속하...</td>\n",
       "      <td>토요타</td>\n",
       "      <td>12</td>\n",
       "      <td>14</td>\n",
       "      <td>일본</td>\n",
       "      <td>0</td>\n",
       "      <td>1</td>\n",
       "      <td>단체:본사_국가</td>\n",
       "    </tr>\n",
       "    <tr>\n",
       "      <th>8997</th>\n",
       "      <td>wikipedia-25913-6-8-10-93-106</td>\n",
       "      <td>방호의의 손자 방덕룡(方德龍)은 1588년(선조 21년) 무과에 급제하고 낙안군수로...</td>\n",
       "      <td>방덕룡</td>\n",
       "      <td>8</td>\n",
       "      <td>10</td>\n",
       "      <td>선무원종공신(宣武原從功臣)</td>\n",
       "      <td>93</td>\n",
       "      <td>106</td>\n",
       "      <td>인물:직업/직함</td>\n",
       "    </tr>\n",
       "    <tr>\n",
       "      <th>8998</th>\n",
       "      <td>wikitree-12062-15-0-3-46-47</td>\n",
       "      <td>LG전자는 올해 초 국내시장에 출시한 2020년형 ‘LG 그램’ 시리즈를 이달부터 ...</td>\n",
       "      <td>LG전자</td>\n",
       "      <td>0</td>\n",
       "      <td>3</td>\n",
       "      <td>북미</td>\n",
       "      <td>46</td>\n",
       "      <td>47</td>\n",
       "      <td>관계_없음</td>\n",
       "    </tr>\n",
       "    <tr>\n",
       "      <th>8999</th>\n",
       "      <td>wikitree-21265-0-16-18-20-21</td>\n",
       "      <td>전남도의회 안전건설소방위원회 차영수 의원(강진1)은 지난 14일 설 명절을 앞두고 ...</td>\n",
       "      <td>차영수</td>\n",
       "      <td>16</td>\n",
       "      <td>18</td>\n",
       "      <td>의원</td>\n",
       "      <td>20</td>\n",
       "      <td>21</td>\n",
       "      <td>인물:직업/직함</td>\n",
       "    </tr>\n",
       "  </tbody>\n",
       "</table>\n",
       "<p>9000 rows × 9 columns</p>\n",
       "</div>"
      ],
      "text/plain": [
       "                                   0  \\\n",
       "0     wikipedia-24896-25-30-33-19-21   \n",
       "1      wikipedia-12728-224-5-7-42-44   \n",
       "2         wikipedia-28460-3-0-7-9-12   \n",
       "3       wikipedia-11479-37-24-26-3-5   \n",
       "4        wikipedia-15581-6-0-2-32-40   \n",
       "...                              ...   \n",
       "8995     wikipedia-5414-12-15-21-0-4   \n",
       "8996     wikipedia-10384-4-12-14-0-1   \n",
       "8997   wikipedia-25913-6-8-10-93-106   \n",
       "8998     wikitree-12062-15-0-3-46-47   \n",
       "8999    wikitree-21265-0-16-18-20-21   \n",
       "\n",
       "                                                      1         2   3   4  \\\n",
       "0     영국에서 사용되는 스포츠 유틸리티 자동차의 브랜드로는 랜드로버(Land Rover)...      랜드로버  30  33   \n",
       "1     선거에서 민주당은 해산 전 의석인 230석에 한참 못 미치는 57석(지역구 27석,...       민주당   5   7   \n",
       "2     유럽 축구 연맹(UEFA) 집행위원회는 2014년 1월 24일에 열린 회의를 통해 ...  유럽 축구 연맹   0   7   \n",
       "3     용병 공격수 챠디의 부진과 시즌 초 활약한 강수일의 침체, 시즌 중반에 영입한 세르...       강수일  24  26   \n",
       "4     람캄행 왕은 1237년에서 1247년 사이 수코타이의 왕 퍼쿤 씨 인트라팃과 쓰엉 ...       람캄행   0   2   \n",
       "...                                                 ...       ...  ..  ..   \n",
       "8995  2002년 FIFA 월드컵 사우디아라비아와의 1차전에서 독일은 8-0으로 승리하였는...   사우디아라비아  15  21   \n",
       "8996  일본의 2대 메이커인 토요타와 닛산은 시장 점유율을 높이기 위한 신차 개발을 계속하...       토요타  12  14   \n",
       "8997  방호의의 손자 방덕룡(方德龍)은 1588년(선조 21년) 무과에 급제하고 낙안군수로...       방덕룡   8  10   \n",
       "8998  LG전자는 올해 초 국내시장에 출시한 2020년형 ‘LG 그램’ 시리즈를 이달부터 ...      LG전자   0   3   \n",
       "8999  전남도의회 안전건설소방위원회 차영수 의원(강진1)은 지난 14일 설 명절을 앞두고 ...       차영수  16  18   \n",
       "\n",
       "                   5   6    7         8  \n",
       "0                자동차  19   21     단체:제작  \n",
       "1                27석  42   44     관계_없음  \n",
       "2               UEFA   9   12     단체:별칭  \n",
       "3                공격수   3    5  인물:직업/직함  \n",
       "4          퍼쿤 씨 인트라팃  32   40    인물:부모님  \n",
       "...              ...  ..  ...       ...  \n",
       "8995           2002년   0    4     관계_없음  \n",
       "8996              일본   0    1  단체:본사_국가  \n",
       "8997  선무원종공신(宣武原從功臣)  93  106  인물:직업/직함  \n",
       "8998              북미  46   47     관계_없음  \n",
       "8999              의원  20   21  인물:직업/직함  \n",
       "\n",
       "[9000 rows x 9 columns]"
      ]
     },
     "execution_count": 2,
     "metadata": {},
     "output_type": "execute_result"
    }
   ],
   "source": [
    "data_df = pd.read_csv(\"../data/train/train.tsv\", sep=\"\\t\", header=None)\n",
    "data_df"
   ]
  },
  {
   "cell_type": "markdown",
   "id": "42a4b42b-f3f0-4b49-86a0-23a5b6c50f87",
   "metadata": {},
   "source": [
    "## 모델 생성하기"
   ]
  },
  {
   "cell_type": "code",
   "execution_count": 77,
   "id": "5e44f92a-ddc1-4f40-9847-7d6419e13770",
   "metadata": {
    "tags": []
   },
   "outputs": [],
   "source": [
    "model_name = \"monologg/koelectra-base-v3-discriminator\"\n",
    "# model_name = \"bert-base-multilingual-cased\"\n",
    "model = transformers.ElectraModel.from_pretrained(model_name)"
   ]
  },
  {
   "cell_type": "markdown",
   "id": "b37648c4-3fe6-4571-b951-aa9fc5e23c4c",
   "metadata": {},
   "source": [
    "## 토크나이저 생성하기"
   ]
  },
  {
   "cell_type": "code",
   "execution_count": 25,
   "id": "b86ae451-2ff8-4e1b-ad50-a105be57c2c9",
   "metadata": {},
   "outputs": [],
   "source": [
    "tokenizer = transformers.AutoTokenizer.from_pretrained(model_name)"
   ]
  },
  {
   "cell_type": "markdown",
   "id": "34948077-cc72-45ea-a1fe-b0582fa28b63",
   "metadata": {},
   "source": [
    "## 파이프라인 생성하기"
   ]
  },
  {
   "cell_type": "code",
   "execution_count": 31,
   "id": "537a6c17-61ca-44a2-a1ff-8096eee03e08",
   "metadata": {},
   "outputs": [
    {
     "data": {
      "application/vnd.jupyter.widget-view+json": {
       "model_id": "782f899c3bcf49bc86deb75d5e2eef02",
       "version_major": 2,
       "version_minor": 0
      },
      "text/plain": [
       "Downloading:   0%|          | 0.00/463 [00:00<?, ?B/s]"
      ]
     },
     "metadata": {},
     "output_type": "display_data"
    },
    {
     "data": {
      "application/vnd.jupyter.widget-view+json": {
       "model_id": "c495a256f61740b2bececae5e9a62bb9",
       "version_major": 2,
       "version_minor": 0
      },
      "text/plain": [
       "Downloading:   0%|          | 0.00/149M [00:00<?, ?B/s]"
      ]
     },
     "metadata": {},
     "output_type": "display_data"
    },
    {
     "data": {
      "application/vnd.jupyter.widget-view+json": {
       "model_id": "cc52567e02e246d5ac52d3795a8a8994",
       "version_major": 2,
       "version_minor": 0
      },
      "text/plain": [
       "Downloading:   0%|          | 0.00/263k [00:00<?, ?B/s]"
      ]
     },
     "metadata": {},
     "output_type": "display_data"
    },
    {
     "data": {
      "application/vnd.jupyter.widget-view+json": {
       "model_id": "b423ad1ac99c49f38aaff4d480c9368a",
       "version_major": 2,
       "version_minor": 0
      },
      "text/plain": [
       "Downloading:   0%|          | 0.00/61.0 [00:00<?, ?B/s]"
      ]
     },
     "metadata": {},
     "output_type": "display_data"
    }
   ],
   "source": [
    "model_name = \"monologg/koelectra-base-v3-generator\"\n",
    "mask_filler = transformers.pipeline('fill-mask', model=model_name)"
   ]
  },
  {
   "cell_type": "markdown",
   "id": "915ae280-a7b2-46cd-8058-3e44defcb76d",
   "metadata": {},
   "source": [
    "## 테스트"
   ]
  },
  {
   "cell_type": "code",
   "execution_count": 160,
   "id": "31c68977-17b8-48f4-b292-c7d3c6b805c2",
   "metadata": {},
   "outputs": [],
   "source": [
    "sentence = \"영국에서 사용되는 스포츠 유틸리티 자동차의 브랜드로는 랜드로버 ( Land Rover ) 와 지프 ( Jeep ) 가 있으며, 이 브랜드들은 자동차의 종류를 일컫는 말로 사용되기도 한다.\""
   ]
  },
  {
   "cell_type": "code",
   "execution_count": 169,
   "id": "cc931b5c-5793-4d77-904d-d4749f9fcdd0",
   "metadata": {},
   "outputs": [],
   "source": [
    "okt = Okt()"
   ]
  },
  {
   "cell_type": "code",
   "execution_count": 171,
   "id": "1819cc66-7ad8-4240-81f0-f86806a53ae4",
   "metadata": {},
   "outputs": [
    {
     "data": {
      "text/plain": [
       "['영국',\n",
       " '사용',\n",
       " '사용되는 스포츠',\n",
       " '사용되는 스포츠 유틸리티',\n",
       " '사용되는 스포츠 유틸리티 자동차',\n",
       " '사용되는 스포츠 유틸리티 자동차의 브랜드',\n",
       " '랜드로버',\n",
       " 'Land',\n",
       " 'Land Rover',\n",
       " '지프',\n",
       " 'Jeep',\n",
       " '이 브랜드들',\n",
       " '자동차',\n",
       " '자동차의 종류',\n",
       " '말로',\n",
       " '말로 사용',\n",
       " '기도',\n",
       " '스포츠',\n",
       " '유틸리티',\n",
       " '브랜드',\n",
       " 'Rover',\n",
       " '브랜드들',\n",
       " '종류']"
      ]
     },
     "execution_count": 171,
     "metadata": {},
     "output_type": "execute_result"
    }
   ],
   "source": [
    "okt.phrases(sentence)"
   ]
  },
  {
   "cell_type": "code",
   "execution_count": 178,
   "id": "45319d3c-21de-4223-8dbf-18cad33ccb02",
   "metadata": {},
   "outputs": [
    {
     "name": "stdout",
     "output_type": "stream",
     "text": [
      "1950년 9월 28일, 수복 후 일부 장관들의 경질에 따라 법무부 장관에 김준연, 농림부 장관에 공진항, 사회부 장관에 허정, 문교부 장관에 백낙준, 보건부 장관에 오한영이 임명되었다.\n",
      "['1950', '##년', '9', '##월', '28', '##일', ',', '수복', '후', '일부', '장관', '##들의', '경질', '##에', '따라', '법무부', '장관', '##에', '김준', '##연', ',', '농림', '##부', '장관', '##에', '공', '##진', '##항', ',', '사회', '##부', '장관', '##에', '허정', ',', '문', '##교', '##부', '장관', '##에', '백', '##낙', '##준', ',', '보건', '##부', '장관', '##에', '오', '##한', '##영', '##이', '임명', '##되', '##었', '##다', '.']\n",
      "1950년 9월 28일, 수복 후 일부 장관들의 경질에 따라 법무부 장관에 김준연, 농림부 장관에 공진항, 사회부 장관에 허정, 문교부 장관에 백낙준, 보건부 장관에 오한영이 임명되었다.\n"
     ]
    }
   ],
   "source": [
    "tokenized_sentence = tokenizer.tokenize(sentence)\n",
    "print(sentence)\n",
    "print(tokenized_sentence)\n",
    "print(tokenizer.convert_tokens_to_string(tokenized_sentence))"
   ]
  },
  {
   "cell_type": "code",
   "execution_count": 159,
   "id": "10edcd0d-5fb9-4954-a59f-f40d3f14dbfb",
   "metadata": {},
   "outputs": [
    {
     "data": {
      "text/plain": [
       "[{'sequence': '[CLS] 영국에서 사용되는 스포츠 유틸리티 자동차의 브랜드로는 랜드로버 ( Land Rover ) 와 지프 ( Jeep ) 가 있으며, 이 브랜드들은 자동차의 종류를 일컫는 말로 사용되기도 한다. [SEP]',\n",
       "  'score': 0.7162365317344666,\n",
       "  'token': 3170,\n",
       "  'token_str': '와'},\n",
       " {'sequence': '[CLS] 영국에서 사용되는 스포츠 유틸리티 자동차의 브랜드로는 랜드로버 ( Land Rover ), 지프 ( Jeep ) 가 있으며, 이 브랜드들은 자동차의 종류를 일컫는 말로 사용되기도 한다. [SEP]',\n",
       "  'score': 0.12225419282913208,\n",
       "  'token': 16,\n",
       "  'token_str': ','},\n",
       " {'sequence': '[CLS] 영국에서 사용되는 스포츠 유틸리티 자동차의 브랜드로는 랜드로버 ( Land Rover ) 나 지프 ( Jeep ) 가 있으며, 이 브랜드들은 자동차의 종류를 일컫는 말로 사용되기도 한다. [SEP]',\n",
       "  'score': 0.10778795182704926,\n",
       "  'token': 2236,\n",
       "  'token_str': '나'},\n",
       " {'sequence': '[CLS] 영국에서 사용되는 스포츠 유틸리티 자동차의 브랜드로는 랜드로버 ( Land Rover ) 또는 지프 ( Jeep ) 가 있으며, 이 브랜드들은 자동차의 종류를 일컫는 말로 사용되기도 한다. [SEP]',\n",
       "  'score': 0.02385668270289898,\n",
       "  'token': 6587,\n",
       "  'token_str': '또는'},\n",
       " {'sequence': '[CLS] 영국에서 사용되는 스포츠 유틸리티 자동차의 브랜드로는 랜드로버 ( Land Rover ) 및 지프 ( Jeep ) 가 있으며, 이 브랜드들은 자동차의 종류를 일컫는 말로 사용되기도 한다. [SEP]',\n",
       "  'score': 0.007861257530748844,\n",
       "  'token': 2728,\n",
       "  'token_str': '및'}]"
      ]
     },
     "execution_count": 159,
     "metadata": {},
     "output_type": "execute_result"
    }
   ],
   "source": [
    "# [MASK]\n",
    "mask_filler(sentence)"
   ]
  },
  {
   "cell_type": "code",
   "execution_count": 189,
   "id": "317c6a18-92bc-4fef-b290-f11b7415cf36",
   "metadata": {},
   "outputs": [
    {
     "name": "stdout",
     "output_type": "stream",
     "text": [
      "Original Sentence : 외식문화기업 원앤원㈜(대표이사 박천희)의 브랜드 ‘원할머니보쌈·족발’과 ‘박가부대’가 오는 11월 21일부터 23일까지 ㈜월드전람에서 주최하는 ‘제 53회 프랜차이즈 창업박람회 2019 SETEC’에 참석한다고 20일 밝혔다.\n",
      "\n",
      "Masked Sentence : 외식문화기업 원앤원㈜(대표이사 박천희)의 브랜드 ‘원할머니보쌈·족발’과 ‘박가부대’가 오는 11월 21일부터 23일까지 ㈜월드전람에서 주최하는 ‘제 53회 프랜차이즈 [MASK]박람회 2019 SETEC’에 참석한다고 20일 밝혔다.\n",
      "sequence : [CLS] 외식문화기업 원앤원㈜ ( 대표이사 박천희 ) 의 브랜드 ‘ 원할머니보쌈 · 족발 ’ 과 ‘ 박가부대 ’ 가 오는 11월 21일부터 23일까지 ㈜월드전람에서 주최하는 ‘ 제 53회 프랜차이즈 외식 박람회 2019 SETEC ’ 에 참석한다고 20일 밝혔다. [SEP]\n",
      "score : 0.20184636116027832\n",
      "token : 14153\n",
      "token_str : 외식\n",
      "\n",
      "sequence : [CLS] 외식문화기업 원앤원㈜ ( 대표이사 박천희 ) 의 브랜드 ‘ 원할머니보쌈 · 족발 ’ 과 ‘ 박가부대 ’ 가 오는 11월 21일부터 23일까지 ㈜월드전람에서 주최하는 ‘ 제 53회 프랜차이즈 프랜차이즈 박람회 2019 SETEC ’ 에 참석한다고 20일 밝혔다. [SEP]\n",
      "score : 0.1871740221977234\n",
      "token : 13508\n",
      "token_str : 프랜차이즈\n",
      "\n",
      "sequence : [CLS] 외식문화기업 원앤원㈜ ( 대표이사 박천희 ) 의 브랜드 ‘ 원할머니보쌈 · 족발 ’ 과 ‘ 박가부대 ’ 가 오는 11월 21일부터 23일까지 ㈜월드전람에서 주최하는 ‘ 제 53회 프랜차이즈 한식 박람회 2019 SETEC ’ 에 참석한다고 20일 밝혔다. [SEP]\n",
      "score : 0.055190883576869965\n",
      "token : 15532\n",
      "token_str : 한식\n",
      "\n",
      "sequence : [CLS] 외식문화기업 원앤원㈜ ( 대표이사 박천희 ) 의 브랜드 ‘ 원할머니보쌈 · 족발 ’ 과 ‘ 박가부대 ’ 가 오는 11월 21일부터 23일까지 ㈜월드전람에서 주최하는 ‘ 제 53회 프랜차이즈 브랜드 박람회 2019 SETEC ’ 에 참석한다고 20일 밝혔다. [SEP]\n",
      "score : 0.05194978788495064\n",
      "token : 6955\n",
      "token_str : 브랜드\n",
      "\n",
      "sequence : [CLS] 외식문화기업 원앤원㈜ ( 대표이사 박천희 ) 의 브랜드 ‘ 원할머니보쌈 · 족발 ’ 과 ‘ 박가부대 ’ 가 오는 11월 21일부터 23일까지 ㈜월드전람에서 주최하는 ‘ 제 53회 프랜차이즈 가맹점 박람회 2019 SETEC ’ 에 참석한다고 20일 밝혔다. [SEP]\n",
      "score : 0.039104558527469635\n",
      "token : 12392\n",
      "token_str : 가맹점\n",
      "\n",
      "Masked Sentence : 외식문화기업 원앤원㈜(대표이사 박천희)의 브랜드 ‘원할머니보쌈·족발’과 ‘박가부대’가 오는 11월 21일부터 23일까지 ㈜월드전람에서 주최하는 ‘제 53회 프랜차이즈 창업박람회 2019 SETEC’에 [MASK]한다고 20일 밝혔다.\n",
      "sequence : [CLS] 외식문화기업 원앤원㈜ ( 대표이사 박천희 ) 의 브랜드 ‘ 원할머니보쌈 · 족발 ’ 과 ‘ 박가부대 ’ 가 오는 11월 21일부터 23일까지 ㈜월드전람에서 주최하는 ‘ 제 53회 프랜차이즈 창업박람회 2019 SETEC ’ 에 참가 한다고 20일 밝혔다. [SEP]\n",
      "score : 0.6473085880279541\n",
      "token : 7137\n",
      "token_str : 참가\n",
      "\n",
      "sequence : [CLS] 외식문화기업 원앤원㈜ ( 대표이사 박천희 ) 의 브랜드 ‘ 원할머니보쌈 · 족발 ’ 과 ‘ 박가부대 ’ 가 오는 11월 21일부터 23일까지 ㈜월드전람에서 주최하는 ‘ 제 53회 프랜차이즈 창업박람회 2019 SETEC ’ 에 참여 한다고 20일 밝혔다. [SEP]\n",
      "score : 0.09181366115808487\n",
      "token : 6487\n",
      "token_str : 참여\n",
      "\n",
      "sequence : [CLS] 외식문화기업 원앤원㈜ ( 대표이사 박천희 ) 의 브랜드 ‘ 원할머니보쌈 · 족발 ’ 과 ‘ 박가부대 ’ 가 오는 11월 21일부터 23일까지 ㈜월드전람에서 주최하는 ‘ 제 53회 프랜차이즈 창업박람회 2019 SETEC ’ 에 함께 한다고 20일 밝혔다. [SEP]\n",
      "score : 0.0719684585928917\n",
      "token : 6261\n",
      "token_str : 함께\n",
      "\n",
      "sequence : [CLS] 외식문화기업 원앤원㈜ ( 대표이사 박천희 ) 의 브랜드 ‘ 원할머니보쌈 · 족발 ’ 과 ‘ 박가부대 ’ 가 오는 11월 21일부터 23일까지 ㈜월드전람에서 주최하는 ‘ 제 53회 프랜차이즈 창업박람회 2019 SETEC ’ 에서 한다고 20일 밝혔다. [SEP]\n",
      "score : 0.036871787160634995\n",
      "token : 4129\n",
      "token_str : ##서\n",
      "\n",
      "sequence : [CLS] 외식문화기업 원앤원㈜ ( 대표이사 박천희 ) 의 브랜드 ‘ 원할머니보쌈 · 족발 ’ 과 ‘ 박가부대 ’ 가 오는 11월 21일부터 23일까지 ㈜월드전람에서 주최하는 ‘ 제 53회 프랜차이즈 창업박람회 2019 SETEC ’ 에 참석 한다고 20일 밝혔다. [SEP]\n",
      "score : 0.02847185544669628\n",
      "token : 6961\n",
      "token_str : 참석\n",
      "\n",
      "Masked Sentence : 외식문화기업 원앤원㈜(대표이사 박천희)의 브랜드 ‘원할머니보쌈·족발’과 ‘박가부대’가 오는 11월 21일부터 23일까지 ㈜월드전람에서 주최하는 ‘제 53회 프랜차이즈 창업박람회 2019 SETEC’에 참석한다고 20일 [MASK]다.\n",
      "sequence : [CLS] 외식문화기업 원앤원㈜ ( 대표이사 박천희 ) 의 브랜드 ‘ 원할머니보쌈 · 족발 ’ 과 ‘ 박가부대 ’ 가 오는 11월 21일부터 23일까지 ㈜월드전람에서 주최하는 ‘ 제 53회 프랜차이즈 창업박람회 2019 SETEC ’ 에 참석한다고 20일 밝혔 다. [SEP]\n",
      "score : 0.9927412271499634\n",
      "token : 6308\n",
      "token_str : 밝혔\n",
      "\n",
      "sequence : [CLS] 외식문화기업 원앤원㈜ ( 대표이사 박천희 ) 의 브랜드 ‘ 원할머니보쌈 · 족발 ’ 과 ‘ 박가부대 ’ 가 오는 11월 21일부터 23일까지 ㈜월드전람에서 주최하는 ‘ 제 53회 프랜차이즈 창업박람회 2019 SETEC ’ 에 참석한다고 20일 밝힌 다. [SEP]\n",
      "score : 0.0014165736502036452\n",
      "token : 8381\n",
      "token_str : 밝힌\n",
      "\n",
      "sequence : [CLS] 외식문화기업 원앤원㈜ ( 대표이사 박천희 ) 의 브랜드 ‘ 원할머니보쌈 · 족발 ’ 과 ‘ 박가부대 ’ 가 오는 11월 21일부터 23일까지 ㈜월드전람에서 주최하는 ‘ 제 53회 프랜차이즈 창업박람회 2019 SETEC ’ 에 참석한다고 20일자 다. [SEP]\n",
      "score : 0.0012527737999334931\n",
      "token : 4195\n",
      "token_str : ##자\n",
      "\n",
      "sequence : [CLS] 외식문화기업 원앤원㈜ ( 대표이사 박천희 ) 의 브랜드 ‘ 원할머니보쌈 · 족발 ’ 과 ‘ 박가부대 ’ 가 오는 11월 21일부터 23일까지 ㈜월드전람에서 주최하는 ‘ 제 53회 프랜차이즈 창업박람회 2019 SETEC ’ 에 참석한다고 20일 전했 다. [SEP]\n",
      "score : 0.0011891809990629554\n",
      "token : 7037\n",
      "token_str : 전했\n",
      "\n",
      "sequence : [CLS] 외식문화기업 원앤원㈜ ( 대표이사 박천희 ) 의 브랜드 ‘ 원할머니보쌈 · 족발 ’ 과 ‘ 박가부대 ’ 가 오는 11월 21일부터 23일까지 ㈜월드전람에서 주최하는 ‘ 제 53회 프랜차이즈 창업박람회 2019 SETEC ’ 에 참석한다고 20일. 다. [SEP]\n",
      "score : 0.0004091620212420821\n",
      "token : 18\n",
      "token_str : .\n",
      "\n"
     ]
    }
   ],
   "source": [
    "rand_idx = random.randrange(len(data_df))\n",
    "# rand_idx = 1\n",
    "rand_data = data_df.iloc[rand_idx, :]\n",
    "\n",
    "# ========================================\n",
    "source = rand_data[0]\n",
    "sentence = rand_data[1]\n",
    "\n",
    "e1_name = rand_data[2]\n",
    "e1_si = rand_data[3] - sentence[:rand_data[3]].count(\" \")\n",
    "e1_ei = rand_data[4] - sentence[:rand_data[4]].count(\" \")\n",
    "\n",
    "e2_name = rand_data[5]\n",
    "e2_si = rand_data[6] - sentence[:rand_data[6]].count(\" \")\n",
    "e2_ei = rand_data[7] - sentence[:rand_data[7]].count(\" \")\n",
    "\n",
    "label = rand_data[8]\n",
    "# ========================================\n",
    "apply_chr = re.compile(\"[^가-힣]\")\n",
    "mask_num = 3\n",
    "\n",
    "tokenized_sent = tokenizer.tokenize(sentence)\n",
    "token_idx = []\n",
    "word_idx = []\n",
    "select_flag = []\n",
    "\n",
    "chr_count = 0\n",
    "for idx, token in enumerate(tokenized_sent):\n",
    "    p_token = token.replace(\"#\", \"\")\n",
    "    \n",
    "    token_idx.append(idx)\n",
    "    \n",
    "    word_si = chr_count\n",
    "    word_ei = chr_count + len(p_token) - 1\n",
    "    word_idx.append([word_si, word_ei])\n",
    "    \n",
    "    # select_flag : 0과 1로 구성, 1 값을 가지고 있는 토큰들 중 mask_num만큼 선택해 해당 tokenm을 [MASK]로 변환함.\n",
    "    # 이 때 entity1과 관련 있는 토큰, entity2와 관련 있는 토큰 제외\n",
    "    # 한글이 아닌 문자를 포함한 token 제외\n",
    "    if word_si in range(e1_si, e1_ei + 1) or word_ei in range(e1_si, e1_ei + 1) or (word_si <= e1_si and word_ei >= e1_ei):\n",
    "        select_flag.append(0)\n",
    "    elif word_si in range(e2_si, e2_ei + 1) or word_ei in range(e2_si, e2_ei + 1) or (word_si <= e2_si and word_ei >= e2_ei):\n",
    "        select_flag.append(0)\n",
    "    elif apply_chr.search(token) is not None:\n",
    "        select_flag.append(0)\n",
    "    else:\n",
    "        select_flag.append(1)\n",
    "        \n",
    "    chr_count += len(token)\n",
    "    chr_count -= token.count(\"#\")\n",
    "    if chr_count < len(sentence) and sentence[chr_count] == \" \":\n",
    "        chr_count += 1\n",
    "\n",
    "picks = [v for i, v in enumerate(token_idx) if select_flag[i] == 1]\n",
    "picks = random.sample(picks, k=3)\n",
    "\n",
    "print(f\"Original Sentence : {sentence}\\n\")\n",
    "for pick_idx in picks:\n",
    "    word_si, word_ei = word_idx[pick_idx]\n",
    "    masked_sentence = sentence[:word_si] + \"[MASK]\" + sentence[word_ei + 1:]\n",
    "    print(f\"Masked Sentence : {masked_sentence}\")\n",
    "#     print(mask_filler(masked_sentence))\n",
    "    for predict_sent in mask_filler(masked_sentence):\n",
    "        for k, v in predict_sent.items():\n",
    "            print(f\"{k} : {v}\")\n",
    "        print()"
   ]
  },
  {
   "cell_type": "markdown",
   "id": "2d6eaeb5-63e3-4314-bf56-57530ea20ca1",
   "metadata": {},
   "source": [
    "## 함수로 구현하기"
   ]
  },
  {
   "cell_type": "code",
   "execution_count": null,
   "id": "aab23d20-bc53-4856-a053-ec3b5a3dc5dc",
   "metadata": {},
   "outputs": [],
   "source": [
    "def text_augmentation(data, tokenizer, mask_filler):\n",
    "    apply_chr = re.compile(\"[^a-zA-Z0-9가-힣]\")\n",
    "    \n",
    "    source = data[0]\n",
    "    sentence = data[1]\n",
    "    \n",
    "    e1_name = data[2]\n",
    "    e1_si = data[3]\n",
    "    e1_ei = data[4]\n",
    "    \n",
    "    e2_name = data[5]\n",
    "    e2_si = data[6]\n",
    "    e2_ei = data[7]\n",
    "    \n",
    "    label = data[8]\n",
    "    \n",
    "    nouns = [token for token in tokenizer(sentence) if apply_chr.search(token)]"
   ]
  }
 ],
 "metadata": {
  "kernelspec": {
   "display_name": "Python 3",
   "language": "python",
   "name": "python3"
  },
  "language_info": {
   "codemirror_mode": {
    "name": "ipython",
    "version": 3
   },
   "file_extension": ".py",
   "mimetype": "text/x-python",
   "name": "python",
   "nbconvert_exporter": "python",
   "pygments_lexer": "ipython3",
   "version": "3.7.7"
  }
 },
 "nbformat": 4,
 "nbformat_minor": 5
}
