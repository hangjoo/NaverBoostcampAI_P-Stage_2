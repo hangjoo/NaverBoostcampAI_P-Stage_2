{
 "cells": [
  {
   "cell_type": "code",
   "execution_count": 17,
   "id": "4c61c695-1fef-4265-8086-48ee717525e7",
   "metadata": {},
   "outputs": [],
   "source": [
    "import os\n",
    "import pandas as pd\n",
    "import numpy as np\n",
    "import torch\n",
    "from transformers import ElectraForSequenceClassification, ElectraConfig, AutoTokenizer, ElectraModel\n",
    "\n",
    "from konlpy.tag import Mecab"
   ]
  },
  {
   "cell_type": "code",
   "execution_count": 10,
   "id": "339a8523-e30d-4d93-bbec-b945e02eea67",
   "metadata": {},
   "outputs": [],
   "source": [
    "MODEL_NAME = \"monologg/koelectra-small-v3-discriminator\"\n",
    "tokenizer = AutoTokenizer.from_pretrained(MODEL_NAME)\n",
    "electra_config = ElectraConfig.from_pretrained(MODEL_NAME)\n",
    "model = ElectraModel.from_pretrained(MODEL_NAME)"
   ]
  },
  {
   "cell_type": "code",
   "execution_count": 36,
   "id": "6e1eb306-b017-4dcb-9751-ac6fb9e68cf9",
   "metadata": {},
   "outputs": [
    {
     "data": {
      "text/html": [
       "<div>\n",
       "<style scoped>\n",
       "    .dataframe tbody tr th:only-of-type {\n",
       "        vertical-align: middle;\n",
       "    }\n",
       "\n",
       "    .dataframe tbody tr th {\n",
       "        vertical-align: top;\n",
       "    }\n",
       "\n",
       "    .dataframe thead th {\n",
       "        text-align: right;\n",
       "    }\n",
       "</style>\n",
       "<table border=\"1\" class=\"dataframe\">\n",
       "  <thead>\n",
       "    <tr style=\"text-align: right;\">\n",
       "      <th></th>\n",
       "      <th>0</th>\n",
       "      <th>1</th>\n",
       "      <th>2</th>\n",
       "      <th>3</th>\n",
       "      <th>4</th>\n",
       "      <th>5</th>\n",
       "      <th>6</th>\n",
       "      <th>7</th>\n",
       "      <th>8</th>\n",
       "    </tr>\n",
       "  </thead>\n",
       "  <tbody>\n",
       "    <tr>\n",
       "      <th>0</th>\n",
       "      <td>wikipedia-24896-25-30-33-19-21</td>\n",
       "      <td>영국에서 사용되는 스포츠 유틸리티 자동차의 브랜드로는 랜드로버(Land Rover)...</td>\n",
       "      <td>랜드로버</td>\n",
       "      <td>30</td>\n",
       "      <td>33</td>\n",
       "      <td>자동차</td>\n",
       "      <td>19</td>\n",
       "      <td>21</td>\n",
       "      <td>단체:제작</td>\n",
       "    </tr>\n",
       "    <tr>\n",
       "      <th>1</th>\n",
       "      <td>wikipedia-12728-224-5-7-42-44</td>\n",
       "      <td>선거에서 민주당은 해산 전 의석인 230석에 한참 못 미치는 57석(지역구 27석,...</td>\n",
       "      <td>민주당</td>\n",
       "      <td>5</td>\n",
       "      <td>7</td>\n",
       "      <td>27석</td>\n",
       "      <td>42</td>\n",
       "      <td>44</td>\n",
       "      <td>관계_없음</td>\n",
       "    </tr>\n",
       "    <tr>\n",
       "      <th>2</th>\n",
       "      <td>wikipedia-28460-3-0-7-9-12</td>\n",
       "      <td>유럽 축구 연맹(UEFA) 집행위원회는 2014년 1월 24일에 열린 회의를 통해 ...</td>\n",
       "      <td>유럽 축구 연맹</td>\n",
       "      <td>0</td>\n",
       "      <td>7</td>\n",
       "      <td>UEFA</td>\n",
       "      <td>9</td>\n",
       "      <td>12</td>\n",
       "      <td>단체:별칭</td>\n",
       "    </tr>\n",
       "    <tr>\n",
       "      <th>3</th>\n",
       "      <td>wikipedia-11479-37-24-26-3-5</td>\n",
       "      <td>용병 공격수 챠디의 부진과 시즌 초 활약한 강수일의 침체, 시즌 중반에 영입한 세르...</td>\n",
       "      <td>강수일</td>\n",
       "      <td>24</td>\n",
       "      <td>26</td>\n",
       "      <td>공격수</td>\n",
       "      <td>3</td>\n",
       "      <td>5</td>\n",
       "      <td>인물:직업/직함</td>\n",
       "    </tr>\n",
       "    <tr>\n",
       "      <th>4</th>\n",
       "      <td>wikipedia-15581-6-0-2-32-40</td>\n",
       "      <td>람캄행 왕은 1237년에서 1247년 사이 수코타이의 왕 퍼쿤 씨 인트라팃과 쓰엉 ...</td>\n",
       "      <td>람캄행</td>\n",
       "      <td>0</td>\n",
       "      <td>2</td>\n",
       "      <td>퍼쿤 씨 인트라팃</td>\n",
       "      <td>32</td>\n",
       "      <td>40</td>\n",
       "      <td>인물:부모님</td>\n",
       "    </tr>\n",
       "    <tr>\n",
       "      <th>...</th>\n",
       "      <td>...</td>\n",
       "      <td>...</td>\n",
       "      <td>...</td>\n",
       "      <td>...</td>\n",
       "      <td>...</td>\n",
       "      <td>...</td>\n",
       "      <td>...</td>\n",
       "      <td>...</td>\n",
       "      <td>...</td>\n",
       "    </tr>\n",
       "    <tr>\n",
       "      <th>8995</th>\n",
       "      <td>wikipedia-5414-12-15-21-0-4</td>\n",
       "      <td>2002년 FIFA 월드컵 사우디아라비아와의 1차전에서 독일은 8-0으로 승리하였는...</td>\n",
       "      <td>사우디아라비아</td>\n",
       "      <td>15</td>\n",
       "      <td>21</td>\n",
       "      <td>2002년</td>\n",
       "      <td>0</td>\n",
       "      <td>4</td>\n",
       "      <td>관계_없음</td>\n",
       "    </tr>\n",
       "    <tr>\n",
       "      <th>8996</th>\n",
       "      <td>wikipedia-10384-4-12-14-0-1</td>\n",
       "      <td>일본의 2대 메이커인 토요타와 닛산은 시장 점유율을 높이기 위한 신차 개발을 계속하...</td>\n",
       "      <td>토요타</td>\n",
       "      <td>12</td>\n",
       "      <td>14</td>\n",
       "      <td>일본</td>\n",
       "      <td>0</td>\n",
       "      <td>1</td>\n",
       "      <td>단체:본사_국가</td>\n",
       "    </tr>\n",
       "    <tr>\n",
       "      <th>8997</th>\n",
       "      <td>wikipedia-25913-6-8-10-93-106</td>\n",
       "      <td>방호의의 손자 방덕룡(方德龍)은 1588년(선조 21년) 무과에 급제하고 낙안군수로...</td>\n",
       "      <td>방덕룡</td>\n",
       "      <td>8</td>\n",
       "      <td>10</td>\n",
       "      <td>선무원종공신(宣武原從功臣)</td>\n",
       "      <td>93</td>\n",
       "      <td>106</td>\n",
       "      <td>인물:직업/직함</td>\n",
       "    </tr>\n",
       "    <tr>\n",
       "      <th>8998</th>\n",
       "      <td>wikitree-12062-15-0-3-46-47</td>\n",
       "      <td>LG전자는 올해 초 국내시장에 출시한 2020년형 ‘LG 그램’ 시리즈를 이달부터 ...</td>\n",
       "      <td>LG전자</td>\n",
       "      <td>0</td>\n",
       "      <td>3</td>\n",
       "      <td>북미</td>\n",
       "      <td>46</td>\n",
       "      <td>47</td>\n",
       "      <td>관계_없음</td>\n",
       "    </tr>\n",
       "    <tr>\n",
       "      <th>8999</th>\n",
       "      <td>wikitree-21265-0-16-18-20-21</td>\n",
       "      <td>전남도의회 안전건설소방위원회 차영수 의원(강진1)은 지난 14일 설 명절을 앞두고 ...</td>\n",
       "      <td>차영수</td>\n",
       "      <td>16</td>\n",
       "      <td>18</td>\n",
       "      <td>의원</td>\n",
       "      <td>20</td>\n",
       "      <td>21</td>\n",
       "      <td>인물:직업/직함</td>\n",
       "    </tr>\n",
       "  </tbody>\n",
       "</table>\n",
       "<p>9000 rows × 9 columns</p>\n",
       "</div>"
      ],
      "text/plain": [
       "                                   0  \\\n",
       "0     wikipedia-24896-25-30-33-19-21   \n",
       "1      wikipedia-12728-224-5-7-42-44   \n",
       "2         wikipedia-28460-3-0-7-9-12   \n",
       "3       wikipedia-11479-37-24-26-3-5   \n",
       "4        wikipedia-15581-6-0-2-32-40   \n",
       "...                              ...   \n",
       "8995     wikipedia-5414-12-15-21-0-4   \n",
       "8996     wikipedia-10384-4-12-14-0-1   \n",
       "8997   wikipedia-25913-6-8-10-93-106   \n",
       "8998     wikitree-12062-15-0-3-46-47   \n",
       "8999    wikitree-21265-0-16-18-20-21   \n",
       "\n",
       "                                                      1         2   3   4  \\\n",
       "0     영국에서 사용되는 스포츠 유틸리티 자동차의 브랜드로는 랜드로버(Land Rover)...      랜드로버  30  33   \n",
       "1     선거에서 민주당은 해산 전 의석인 230석에 한참 못 미치는 57석(지역구 27석,...       민주당   5   7   \n",
       "2     유럽 축구 연맹(UEFA) 집행위원회는 2014년 1월 24일에 열린 회의를 통해 ...  유럽 축구 연맹   0   7   \n",
       "3     용병 공격수 챠디의 부진과 시즌 초 활약한 강수일의 침체, 시즌 중반에 영입한 세르...       강수일  24  26   \n",
       "4     람캄행 왕은 1237년에서 1247년 사이 수코타이의 왕 퍼쿤 씨 인트라팃과 쓰엉 ...       람캄행   0   2   \n",
       "...                                                 ...       ...  ..  ..   \n",
       "8995  2002년 FIFA 월드컵 사우디아라비아와의 1차전에서 독일은 8-0으로 승리하였는...   사우디아라비아  15  21   \n",
       "8996  일본의 2대 메이커인 토요타와 닛산은 시장 점유율을 높이기 위한 신차 개발을 계속하...       토요타  12  14   \n",
       "8997  방호의의 손자 방덕룡(方德龍)은 1588년(선조 21년) 무과에 급제하고 낙안군수로...       방덕룡   8  10   \n",
       "8998  LG전자는 올해 초 국내시장에 출시한 2020년형 ‘LG 그램’ 시리즈를 이달부터 ...      LG전자   0   3   \n",
       "8999  전남도의회 안전건설소방위원회 차영수 의원(강진1)은 지난 14일 설 명절을 앞두고 ...       차영수  16  18   \n",
       "\n",
       "                   5   6    7         8  \n",
       "0                자동차  19   21     단체:제작  \n",
       "1                27석  42   44     관계_없음  \n",
       "2               UEFA   9   12     단체:별칭  \n",
       "3                공격수   3    5  인물:직업/직함  \n",
       "4          퍼쿤 씨 인트라팃  32   40    인물:부모님  \n",
       "...              ...  ..  ...       ...  \n",
       "8995           2002년   0    4     관계_없음  \n",
       "8996              일본   0    1  단체:본사_국가  \n",
       "8997  선무원종공신(宣武原從功臣)  93  106  인물:직업/직함  \n",
       "8998              북미  46   47     관계_없음  \n",
       "8999              의원  20   21  인물:직업/직함  \n",
       "\n",
       "[9000 rows x 9 columns]"
      ]
     },
     "execution_count": 36,
     "metadata": {},
     "output_type": "execute_result"
    }
   ],
   "source": [
    "data_df = pd.read_csv(\"../data/train/train.tsv\", sep=\"\\t\", header=None)\n",
    "data_df"
   ]
  },
  {
   "cell_type": "code",
   "execution_count": 63,
   "id": "b20cbdfb-c878-4c7e-bbe0-9dd03f98f4b0",
   "metadata": {},
   "outputs": [
    {
     "name": "stdout",
     "output_type": "stream",
     "text": [
      "유럽 축구 연맹(UEFA) 집행위원회는 2014년 1월 24일에 열린 회의를 통해 2017년 대회부터 UEFA U-21 축구 선수권 대회 참가국을 8개국에서 12개국으로 확대하기로 결정했다.\n",
      "유럽 축구 연맹\n",
      "UEFA\n"
     ]
    }
   ],
   "source": [
    "data_idx = 2\n",
    "sentence = data_df.iloc[data_idx, 1]\n",
    "e1_name = data_df.iloc[data_idx, 2]\n",
    "e2_name = data_df.iloc[data_idx, 5]\n",
    "print(sentence)\n",
    "print(e1_name)\n",
    "print(e2_name)"
   ]
  },
  {
   "cell_type": "code",
   "execution_count": 64,
   "id": "028151ec-36ce-44fb-9724-5589729cea99",
   "metadata": {},
   "outputs": [
    {
     "name": "stdout",
     "output_type": "stream",
     "text": [
      "['유럽', '축구', '연맹', '(', 'UEFA', ')', '집행', '##위원회', '##는', '2014', '##년', '1', '##월', '24', '##일', '##에', '열린', '회의', '##를', '통해', '2017', '##년', '대회', '##부터', 'UEFA', 'U', '-', '21', '축구', '선수', '##권', '대회', '참가', '##국', '##을', '8', '##개', '##국', '##에', '##서', '12', '##개', '##국', '##으로', '확대', '##하', '##기', '##로', '결정', '##했', '##다', '.']\n",
      "['유럽', '축구', '연맹']\n",
      "['UEFA']\n"
     ]
    }
   ],
   "source": [
    "print(tokenizer.tokenize(sentence))\n",
    "print(tokenizer.tokenize(e1_name))\n",
    "print(tokenizer.tokenize(e2_name))"
   ]
  },
  {
   "cell_type": "code",
   "execution_count": 65,
   "id": "acca8e74-05e2-4bb9-8d23-602462597698",
   "metadata": {},
   "outputs": [
    {
     "name": "stdout",
     "output_type": "stream",
     "text": [
      "[2, 6755, 7325, 9929, 12, 22038, 13, 7757, 13666, 4034, 7043, 4556, 21, 4501, 6592, 4366, 4073, 6867, 6356, 4110, 6260, 7651, 4556, 6622, 6406, 22038, 57, 17, 6591, 7325, 6463, 4046, 6622, 7137, 4113, 4292, 28, 4217, 4113, 4073, 4129, 6300, 4217, 4113, 10749, 6626, 4279, 4031, 4239, 6393, 4398, 4176, 18, 3]\n",
      "[2, 6755, 7325, 9929, 3]\n",
      "[2, 22038, 3]\n"
     ]
    }
   ],
   "source": [
    "print(tokenizer.encode(sentence))\n",
    "print(tokenizer.encode(e1_name))\n",
    "print(tokenizer.encode(e2_name))"
   ]
  },
  {
   "cell_type": "code",
   "execution_count": 66,
   "id": "294529a2-311d-4d73-bec0-0ae141a07322",
   "metadata": {},
   "outputs": [
    {
     "name": "stdout",
     "output_type": "stream",
     "text": [
      "[1, 2, 3]\n",
      "[5]\n"
     ]
    }
   ],
   "source": [
    "e1_encoded_idx = [tokenizer.encode(sentence).index(tokenizer.encode(e1_name)[idx]) for idx in range(1, len(tokenizer.encode(e1_name)) - 1)]\n",
    "e2_encoded_idx = [tokenizer.encode(sentence).index(tokenizer.encode(e2_name)[idx]) for idx in range(1, len(tokenizer.encode(e2_name)) - 1)]\n",
    "print(e1_encoded_idx)\n",
    "print(e2_encoded_idx)"
   ]
  },
  {
   "cell_type": "code",
   "execution_count": null,
   "id": "0f0cb4cb-d511-4044-b1bf-9f71ffefe617",
   "metadata": {},
   "outputs": [],
   "source": []
  }
 ],
 "metadata": {
  "kernelspec": {
   "display_name": "Python 3",
   "language": "python",
   "name": "python3"
  },
  "language_info": {
   "codemirror_mode": {
    "name": "ipython",
    "version": 3
   },
   "file_extension": ".py",
   "mimetype": "text/x-python",
   "name": "python",
   "nbconvert_exporter": "python",
   "pygments_lexer": "ipython3",
   "version": "3.7.7"
  }
 },
 "nbformat": 4,
 "nbformat_minor": 5
}
